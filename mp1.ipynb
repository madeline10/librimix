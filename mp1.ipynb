{
  "nbformat": 4,
  "nbformat_minor": 0,
  "metadata": {
    "colab": {
      "name": "mp1.ipynb",
      "provenance": [],
      "collapsed_sections": [],
      "mount_file_id": "1Jrpo_XC-EjOWlT6_ikowm33GRy5J6bCK",
      "authorship_tag": "ABX9TyP5KjKTHWgzxSJkTtQktWG4",
      "include_colab_link": true
    },
    "kernelspec": {
      "name": "python3",
      "display_name": "Python 3"
    },
    "language_info": {
      "name": "python"
    }
  },
  "cells": [
    {
      "cell_type": "markdown",
      "metadata": {
        "id": "view-in-github",
        "colab_type": "text"
      },
      "source": [
        "<a href=\"https://colab.research.google.com/github/madeline10/librimix/blob/main/mp1.ipynb\" target=\"_parent\"><img src=\"https://colab.research.google.com/assets/colab-badge.svg\" alt=\"Open In Colab\"/></a>"
      ]
    },
    {
      "cell_type": "code",
      "metadata": {
        "colab": {
          "base_uri": "https://localhost:8080/"
        },
        "id": "QIzSV4jGv4iV",
        "outputId": "d26bf480-2caa-43c7-c204-9e6d0fd12264"
      },
      "source": [
        "from google.colab import drive\n",
        "drive.mount('/content/drive')"
      ],
      "execution_count": 1,
      "outputs": [
        {
          "output_type": "stream",
          "text": [
            "Drive already mounted at /content/drive; to attempt to forcibly remount, call drive.mount(\"/content/drive\", force_remount=True).\n"
          ],
          "name": "stdout"
        }
      ]
    },
    {
      "cell_type": "code",
      "metadata": {
        "colab": {
          "base_uri": "https://localhost:8080/"
        },
        "id": "ks0e4qclqksz",
        "outputId": "3b1d2627-a160-46f3-b08d-a53e7efc68d1"
      },
      "source": [
        "!git clone https://github.com/JorisCos/LibriMix"
      ],
      "execution_count": 2,
      "outputs": [
        {
          "output_type": "stream",
          "text": [
            "Cloning into 'LibriMix'...\n",
            "remote: Enumerating objects: 268, done.\u001b[K\n",
            "remote: Counting objects: 100% (268/268), done.\u001b[K\n",
            "remote: Compressing objects: 100% (216/216), done.\u001b[K\n",
            "remote: Total 268 (delta 113), reused 184 (delta 49), pack-reused 0\u001b[K\n",
            "Receiving objects: 100% (268/268), 33.43 MiB | 19.14 MiB/s, done.\n",
            "Resolving deltas: 100% (113/113), done.\n"
          ],
          "name": "stdout"
        }
      ]
    },
    {
      "cell_type": "code",
      "metadata": {
        "colab": {
          "base_uri": "https://localhost:8080/"
        },
        "id": "BZaKRVIQrpF9",
        "outputId": "6270e218-e58e-4240-d900-a235da266e94"
      },
      "source": [
        "cd LibriMix "
      ],
      "execution_count": 8,
      "outputs": [
        {
          "output_type": "stream",
          "text": [
            "/content/LibriMix\n"
          ],
          "name": "stdout"
        }
      ]
    },
    {
      "cell_type": "code",
      "metadata": {
        "colab": {
          "base_uri": "https://localhost:8080/"
        },
        "id": "b3qpwrHqtcaP",
        "outputId": "e085c902-b43d-40c1-eb88-866782ebbe82"
      },
      "source": [
        "!pip install pysndfx"
      ],
      "execution_count": 4,
      "outputs": [
        {
          "output_type": "stream",
          "text": [
            "Requirement already satisfied: pysndfx in /usr/local/lib/python3.7/dist-packages (0.3.6)\n",
            "Requirement already satisfied: numpy in /usr/local/lib/python3.7/dist-packages (from pysndfx) (1.19.5)\n"
          ],
          "name": "stdout"
        }
      ]
    },
    {
      "cell_type": "code",
      "metadata": {
        "colab": {
          "base_uri": "https://localhost:8080/"
        },
        "id": "j6grtCpqujb1",
        "outputId": "d9f6dfa4-8ce3-41fe-83a9-0d83175e3f5d"
      },
      "source": [
        "#!pip install -c groakat sox"
      ],
      "execution_count": null,
      "outputs": [
        {
          "output_type": "stream",
          "text": [
            "\u001b[31mERROR: Could not open requirements file: [Errno 2] No such file or directory: 'groakat'\u001b[0m\n"
          ],
          "name": "stdout"
        }
      ]
    },
    {
      "cell_type": "code",
      "metadata": {
        "colab": {
          "base_uri": "https://localhost:8080/"
        },
        "id": "b9UY79GFvNDY",
        "outputId": "685d9de8-6c4d-4777-d5a1-9c0dc2829966"
      },
      "source": [
        "!tar -xvf /content/win-64_sox-14.4.1-0.tar.bz2"
      ],
      "execution_count": null,
      "outputs": [
        {
          "output_type": "stream",
          "text": [
            "Scripts/pthreadgc2.dll\n",
            "Scripts/sox.exe\n",
            "Scripts/wget.exe\n",
            "Scripts/wget.ini\n",
            "Scripts/zlib1.dll\n",
            "info/files\n",
            "info/index.json\n",
            "info/recipe.json\n",
            "info/recipe/bld.bat\n",
            "info/recipe/build.sh\n",
            "info/recipe/meta.yaml\n",
            "info/recipe/meta.yaml.orig\n"
          ],
          "name": "stdout"
        }
      ]
    },
    {
      "cell_type": "code",
      "metadata": {
        "id": "9yJUI6g1xAW7"
      },
      "source": [
        "!chmod 755 /content/LibriMix/Scripts/wget.ini"
      ],
      "execution_count": null,
      "outputs": []
    },
    {
      "cell_type": "code",
      "metadata": {
        "id": "XOvqm0uTxWn7"
      },
      "source": [
        "!chmod 755 /content/LibriMix/generate_librimix.sh"
      ],
      "execution_count": 6,
      "outputs": []
    },
    {
      "cell_type": "code",
      "metadata": {
        "id": "kXOZdu62w0Ps"
      },
      "source": [
        "#!  '/content/LibriMix/Scripts/wget.ini'"
      ],
      "execution_count": null,
      "outputs": []
    },
    {
      "cell_type": "code",
      "metadata": {
        "colab": {
          "base_uri": "https://localhost:8080/"
        },
        "id": "MyxwA-Upf0L2",
        "outputId": "a66b8a55-ef56-4e33-cc7c-ba3262056922"
      },
      "source": [
        "!apt -qq install -y sox"
      ],
      "execution_count": 5,
      "outputs": [
        {
          "output_type": "stream",
          "text": [
            "The following package was automatically installed and is no longer required:\n",
            "  libnvidia-common-460\n",
            "Use 'apt autoremove' to remove it.\n",
            "The following additional packages will be installed:\n",
            "  libmagic-mgc libmagic1 libopencore-amrnb0 libopencore-amrwb0 libsox-fmt-alsa\n",
            "  libsox-fmt-base libsox3\n",
            "Suggested packages:\n",
            "  file libsox-fmt-all\n",
            "The following NEW packages will be installed:\n",
            "  libmagic-mgc libmagic1 libopencore-amrnb0 libopencore-amrwb0 libsox-fmt-alsa\n",
            "  libsox-fmt-base libsox3 sox\n",
            "0 upgraded, 8 newly installed, 0 to remove and 34 not upgraded.\n",
            "Need to get 760 kB of archives.\n",
            "After this operation, 6,717 kB of additional disk space will be used.\n",
            "Selecting previously unselected package libopencore-amrnb0:amd64.\n",
            "(Reading database ... 160706 files and directories currently installed.)\n",
            "Preparing to unpack .../0-libopencore-amrnb0_0.1.3-2.1_amd64.deb ...\n",
            "Unpacking libopencore-amrnb0:amd64 (0.1.3-2.1) ...\n",
            "Selecting previously unselected package libopencore-amrwb0:amd64.\n",
            "Preparing to unpack .../1-libopencore-amrwb0_0.1.3-2.1_amd64.deb ...\n",
            "Unpacking libopencore-amrwb0:amd64 (0.1.3-2.1) ...\n",
            "Selecting previously unselected package libmagic-mgc.\n",
            "Preparing to unpack .../2-libmagic-mgc_1%3a5.32-2ubuntu0.4_amd64.deb ...\n",
            "Unpacking libmagic-mgc (1:5.32-2ubuntu0.4) ...\n",
            "Selecting previously unselected package libmagic1:amd64.\n",
            "Preparing to unpack .../3-libmagic1_1%3a5.32-2ubuntu0.4_amd64.deb ...\n",
            "Unpacking libmagic1:amd64 (1:5.32-2ubuntu0.4) ...\n",
            "Selecting previously unselected package libsox3:amd64.\n",
            "Preparing to unpack .../4-libsox3_14.4.2-3ubuntu0.18.04.1_amd64.deb ...\n",
            "Unpacking libsox3:amd64 (14.4.2-3ubuntu0.18.04.1) ...\n",
            "Selecting previously unselected package libsox-fmt-alsa:amd64.\n",
            "Preparing to unpack .../5-libsox-fmt-alsa_14.4.2-3ubuntu0.18.04.1_amd64.deb ...\n",
            "Unpacking libsox-fmt-alsa:amd64 (14.4.2-3ubuntu0.18.04.1) ...\n",
            "Selecting previously unselected package libsox-fmt-base:amd64.\n",
            "Preparing to unpack .../6-libsox-fmt-base_14.4.2-3ubuntu0.18.04.1_amd64.deb ...\n",
            "Unpacking libsox-fmt-base:amd64 (14.4.2-3ubuntu0.18.04.1) ...\n",
            "Selecting previously unselected package sox.\n",
            "Preparing to unpack .../7-sox_14.4.2-3ubuntu0.18.04.1_amd64.deb ...\n",
            "Unpacking sox (14.4.2-3ubuntu0.18.04.1) ...\n",
            "Setting up libmagic-mgc (1:5.32-2ubuntu0.4) ...\n",
            "Setting up libmagic1:amd64 (1:5.32-2ubuntu0.4) ...\n",
            "Setting up libopencore-amrnb0:amd64 (0.1.3-2.1) ...\n",
            "Setting up libopencore-amrwb0:amd64 (0.1.3-2.1) ...\n",
            "Setting up libsox3:amd64 (14.4.2-3ubuntu0.18.04.1) ...\n",
            "Setting up libsox-fmt-base:amd64 (14.4.2-3ubuntu0.18.04.1) ...\n",
            "Setting up libsox-fmt-alsa:amd64 (14.4.2-3ubuntu0.18.04.1) ...\n",
            "Setting up sox (14.4.2-3ubuntu0.18.04.1) ...\n",
            "Processing triggers for libc-bin (2.27-3ubuntu1.2) ...\n",
            "/sbin/ldconfig.real: /usr/local/lib/python3.7/dist-packages/ideep4py/lib/libmkldnn.so.0 is not a symbolic link\n",
            "\n",
            "Processing triggers for man-db (2.8.3-2ubuntu0.1) ...\n",
            "Processing triggers for mime-support (3.60ubuntu1) ...\n"
          ],
          "name": "stdout"
        }
      ]
    },
    {
      "cell_type": "code",
      "metadata": {
        "colab": {
          "base_uri": "https://localhost:8080/"
        },
        "id": "qNfaQ_bSrxri",
        "outputId": "7b22f92b-875c-40fe-9fee-a16c319da173"
      },
      "source": [
        "!./generate_librimix.sh storage_dir"
      ],
      "execution_count": 28,
      "outputs": [
        {
          "output_type": "stream",
          "text": [
            "It appears that augmented files have not been generated properly\n",
            "Resuming augmentation.\n",
            "Change speed with factor 0.8\n",
            "\r0it [00:00, ?it/s]\r0it [00:00, ?it/s]\n",
            "Change speed with factor 1.2\n",
            "\r0it [00:00, ?it/s]\r0it [00:00, ?it/s]\n",
            "Directory storage_dir/Libri2Mix/wav8k/max/train-360 already exist. Files won't be overwritten\n",
            "Directory storage_dir/Libri2Mix/wav8k/max/test already exist. Files won't be overwritten\n",
            "Directory storage_dir/Libri2Mix/wav8k/max/train-100 already exist. Files won't be overwritten\n",
            "Creating mixtures and sources from metadata/Libri2Mix/libri2mix_dev-clean.csv in storage_dir/Libri2Mix/wav8k/max/dev\n",
            "100% 3000/3000 [01:26<00:00, 34.85it/s]\n"
          ],
          "name": "stdout"
        }
      ]
    },
    {
      "cell_type": "code",
      "metadata": {
        "id": "j0xSe8WJwzWC"
      },
      "source": [
        "#!rm -rf /content/LibriMix/storage_dir"
      ],
      "execution_count": null,
      "outputs": []
    },
    {
      "cell_type": "code",
      "metadata": {
        "colab": {
          "base_uri": "https://localhost:8080/",
          "height": 35
        },
        "id": "hkjIL3Rv-WLa",
        "outputId": "9a0e129c-1d86-43b6-d986-6c79e2367ada"
      },
      "source": [
        "import shutil\n",
        "shutil.make_archive('/content/LibriMix/storage_dir/Libri2Mix', 'zip', '/content/LibriMix/storage_dir/Libri2Mix')"
      ],
      "execution_count": 33,
      "outputs": [
        {
          "output_type": "execute_result",
          "data": {
            "application/vnd.google.colaboratory.intrinsic+json": {
              "type": "string"
            },
            "text/plain": [
              "'/content/LibriMix/storage_dir/Libri2Mix.zip'"
            ]
          },
          "metadata": {
            "tags": []
          },
          "execution_count": 33
        }
      ]
    },
    {
      "cell_type": "code",
      "metadata": {
        "id": "v8ieL0Pm_6pb"
      },
      "source": [
        "shutil.move(\"/content/LibriMix\", \"/content/drive/MyDrive/LibriMix\")\n",
        "#%cp -av '/content/LibriMix' '/content/drive/MyDrive/LibriMix"
      ],
      "execution_count": null,
      "outputs": []
    },
    {
      "cell_type": "code",
      "metadata": {
        "id": "Tp46cOS816EV"
      },
      "source": [
        ""
      ],
      "execution_count": null,
      "outputs": []
    },
    {
      "cell_type": "code",
      "metadata": {
        "id": "1LY9tuj6nVAX"
      },
      "source": [
        "!rm -rf /content/LibriMix/storage_dir/Libri2Mix/wav8k/max/train-360"
      ],
      "execution_count": 32,
      "outputs": []
    },
    {
      "cell_type": "code",
      "metadata": {
        "colab": {
          "base_uri": "https://localhost:8080/"
        },
        "id": "WHgxuVFwrzpc",
        "outputId": "f2f55a30-1f3c-4bbb-9cdd-969544ef59b7"
      },
      "source": [
        "!pip install -r /content/LibriMix/requirements.txt"
      ],
      "execution_count": 3,
      "outputs": [
        {
          "output_type": "stream",
          "text": [
            "Requirement already satisfied: soundfile>=0.10.3.post1 in /usr/local/lib/python3.7/dist-packages (from -r /content/LibriMix/requirements.txt (line 1)) (0.10.3.post1)\n",
            "Collecting tqdm>=4.46.1\n",
            "\u001b[?25l  Downloading https://files.pythonhosted.org/packages/42/d7/f357d98e9b50346bcb6095fe3ad205d8db3174eb5edb03edfe7c4099576d/tqdm-4.61.0-py2.py3-none-any.whl (75kB)\n",
            "\u001b[K     |████████████████████████████████| 81kB 4.4MB/s \n",
            "\u001b[?25hCollecting pysndfx>=0.3.6\n",
            "  Downloading https://files.pythonhosted.org/packages/f6/46/05d3b20d6512b73874623f6202f11d988ed6655ebccdb877eff8e25f8d2e/pysndfx-0.3.6.tar.gz\n",
            "Requirement already satisfied: pandas>=1.0.1 in /usr/local/lib/python3.7/dist-packages (from -r /content/LibriMix/requirements.txt (line 4)) (1.1.5)\n",
            "Requirement already satisfied: numpy>=1.18.1 in /usr/local/lib/python3.7/dist-packages (from -r /content/LibriMix/requirements.txt (line 5)) (1.19.5)\n",
            "Collecting pyloudnorm>=0.1.0\n",
            "  Downloading https://files.pythonhosted.org/packages/e0/a7/124736cf96bd9bb5b5ee8a777fe02aa531d142c3a3280f00dcf4dafcdfda/pyloudnorm-0.1.0-py3-none-any.whl\n",
            "Requirement already satisfied: scipy>=1.4.1 in /usr/local/lib/python3.7/dist-packages (from -r /content/LibriMix/requirements.txt (line 7)) (1.4.1)\n",
            "Requirement already satisfied: matplotlib>=3.1.3 in /usr/local/lib/python3.7/dist-packages (from -r /content/LibriMix/requirements.txt (line 8)) (3.2.2)\n",
            "Requirement already satisfied: cffi>=1.0 in /usr/local/lib/python3.7/dist-packages (from soundfile>=0.10.3.post1->-r /content/LibriMix/requirements.txt (line 1)) (1.14.5)\n",
            "Requirement already satisfied: pytz>=2017.2 in /usr/local/lib/python3.7/dist-packages (from pandas>=1.0.1->-r /content/LibriMix/requirements.txt (line 4)) (2018.9)\n",
            "Requirement already satisfied: python-dateutil>=2.7.3 in /usr/local/lib/python3.7/dist-packages (from pandas>=1.0.1->-r /content/LibriMix/requirements.txt (line 4)) (2.8.1)\n",
            "Requirement already satisfied: future>=0.16.0 in /usr/local/lib/python3.7/dist-packages (from pyloudnorm>=0.1.0->-r /content/LibriMix/requirements.txt (line 6)) (0.16.0)\n",
            "Requirement already satisfied: cycler>=0.10 in /usr/local/lib/python3.7/dist-packages (from matplotlib>=3.1.3->-r /content/LibriMix/requirements.txt (line 8)) (0.10.0)\n",
            "Requirement already satisfied: kiwisolver>=1.0.1 in /usr/local/lib/python3.7/dist-packages (from matplotlib>=3.1.3->-r /content/LibriMix/requirements.txt (line 8)) (1.3.1)\n",
            "Requirement already satisfied: pyparsing!=2.0.4,!=2.1.2,!=2.1.6,>=2.0.1 in /usr/local/lib/python3.7/dist-packages (from matplotlib>=3.1.3->-r /content/LibriMix/requirements.txt (line 8)) (2.4.7)\n",
            "Requirement already satisfied: pycparser in /usr/local/lib/python3.7/dist-packages (from cffi>=1.0->soundfile>=0.10.3.post1->-r /content/LibriMix/requirements.txt (line 1)) (2.20)\n",
            "Requirement already satisfied: six>=1.5 in /usr/local/lib/python3.7/dist-packages (from python-dateutil>=2.7.3->pandas>=1.0.1->-r /content/LibriMix/requirements.txt (line 4)) (1.15.0)\n",
            "Building wheels for collected packages: pysndfx\n",
            "  Building wheel for pysndfx (setup.py) ... \u001b[?25l\u001b[?25hdone\n",
            "  Created wheel for pysndfx: filename=pysndfx-0.3.6-cp37-none-any.whl size=6555 sha256=ac43a5be9ba1e18f84d642d650b84385dbba6dca851406194b25d523fa9f69cb\n",
            "  Stored in directory: /root/.cache/pip/wheels/cd/76/ec/4e83f591f99a9cd17f7487fd75d83027aa65affe82dc2aa9df\n",
            "Successfully built pysndfx\n",
            "Installing collected packages: tqdm, pysndfx, pyloudnorm\n",
            "  Found existing installation: tqdm 4.41.1\n",
            "    Uninstalling tqdm-4.41.1:\n",
            "      Successfully uninstalled tqdm-4.41.1\n",
            "Successfully installed pyloudnorm-0.1.0 pysndfx-0.3.6 tqdm-4.61.0\n"
          ],
          "name": "stdout"
        }
      ]
    },
    {
      "cell_type": "code",
      "metadata": {
        "colab": {
          "base_uri": "https://localhost:8080/"
        },
        "id": "5cUF_1EKY6Iv",
        "outputId": "7417825b-6ef1-4954-98cc-d38d1800f841"
      },
      "source": [
        "!pwd"
      ],
      "execution_count": 35,
      "outputs": [
        {
          "output_type": "stream",
          "text": [
            "/content/drive/MyDrive\n"
          ],
          "name": "stdout"
        }
      ]
    },
    {
      "cell_type": "code",
      "metadata": {
        "colab": {
          "base_uri": "https://localhost:8080/"
        },
        "id": "iVz1RFaYIfTs",
        "outputId": "e7f7e7c8-5411-4afd-be35-4638490d977b"
      },
      "source": [
        "%cd /content/drive/MyDrive/"
      ],
      "execution_count": 34,
      "outputs": [
        {
          "output_type": "stream",
          "text": [
            "/content/drive/MyDrive\n"
          ],
          "name": "stdout"
        }
      ]
    },
    {
      "cell_type": "code",
      "metadata": {
        "colab": {
          "base_uri": "https://localhost:8080/"
        },
        "id": "IW9KaDdDMz9u",
        "outputId": "c43d8b47-c9ba-4399-a770-91c224791de1"
      },
      "source": [
        "!sudo apt-get inst 7310658308 9990051545 9920848962 9811710521 9811457344 9350043042"
      ],
      "execution_count": 37,
      "outputs": [
        {
          "output_type": "stream",
          "text": [
            "Reading package lists... Done\n",
            "Building dependency tree       \n",
            "Reading state information... Done\n",
            "zip is already the newest version (3.0-11build1).\n",
            "The following package was automatically installed and is no longer required:\n",
            "  libnvidia-common-460\n",
            "Use 'sudo apt autoremove' to remove it.\n",
            "0 upgraded, 0 newly installed, 0 to remove and 34 not upgraded.\n"
          ],
          "name": "stdout"
        }
      ]
    },
    {
      "cell_type": "code",
      "metadata": {
        "colab": {
          "base_uri": "https://localhost:8080/"
        },
        "id": "ksmWqaKhMsFR",
        "outputId": "9145d933-73c2-4e0e-fadd-62fe9cd1e035"
      },
      "source": [
        "!wget /content/LibriMix/storage_dir/Libri2Mix.zip"
      ],
      "execution_count": 38,
      "outputs": [
        {
          "output_type": "stream",
          "text": [
            "/content/LibriMix/storage_dir/Libri2Mix.zip: Scheme missing.\n"
          ],
          "name": "stdout"
        }
      ]
    },
    {
      "cell_type": "code",
      "metadata": {
        "colab": {
          "base_uri": "https://localhost:8080/"
        },
        "id": "NF0PfRJDoVHd",
        "outputId": "72832f60-0171-49a1-8781-40e37d954bea"
      },
      "source": [
        "!git clone https://github.com/kaituoxu/Conv-TasNet.git"
      ],
      "execution_count": null,
      "outputs": [
        {
          "output_type": "stream",
          "text": [
            "Cloning into 'Conv-TasNet'...\n",
            "remote: Enumerating objects: 216, done.\u001b[K\n",
            "Receiving objects:   0% (1/216)   \rReceiving objects:   1% (3/216)   \rReceiving objects:   2% (5/216)   \rReceiving objects:   3% (7/216)   \rReceiving objects:   4% (9/216)   \rReceiving objects:   5% (11/216)   \rReceiving objects:   6% (13/216)   \rReceiving objects:   7% (16/216)   \rReceiving objects:   8% (18/216)   \rReceiving objects:   9% (20/216)   \rReceiving objects:  10% (22/216)   \rReceiving objects:  11% (24/216)   \rReceiving objects:  12% (26/216)   \rReceiving objects:  13% (29/216)   \rReceiving objects:  14% (31/216)   \rReceiving objects:  15% (33/216)   \rReceiving objects:  16% (35/216)   \rReceiving objects:  17% (37/216)   \rReceiving objects:  18% (39/216)   \rReceiving objects:  19% (42/216)   \rReceiving objects:  20% (44/216)   \rReceiving objects:  21% (46/216)   \rReceiving objects:  22% (48/216)   \rReceiving objects:  23% (50/216)   \rReceiving objects:  24% (52/216)   \rReceiving objects:  25% (54/216)   \rReceiving objects:  26% (57/216)   \rReceiving objects:  27% (59/216)   \rReceiving objects:  28% (61/216)   \rReceiving objects:  29% (63/216)   \rReceiving objects:  30% (65/216)   \rReceiving objects:  31% (67/216)   \rReceiving objects:  32% (70/216)   \rReceiving objects:  33% (72/216)   \rReceiving objects:  34% (74/216)   \rReceiving objects:  35% (76/216)   \rReceiving objects:  36% (78/216)   \rReceiving objects:  37% (80/216)   \rReceiving objects:  38% (83/216)   \rReceiving objects:  39% (85/216)   \rReceiving objects:  40% (87/216)   \rReceiving objects:  41% (89/216)   \rReceiving objects:  42% (91/216)   \rremote: Total 216 (delta 0), reused 0 (delta 0), pack-reused 216\u001b[K\n",
            "Receiving objects:  43% (93/216)   \rReceiving objects:  44% (96/216)   \rReceiving objects:  45% (98/216)   \rReceiving objects:  46% (100/216)   \rReceiving objects:  47% (102/216)   \rReceiving objects:  48% (104/216)   \rReceiving objects:  49% (106/216)   \rReceiving objects:  50% (108/216)   \rReceiving objects:  51% (111/216)   \rReceiving objects:  52% (113/216)   \rReceiving objects:  53% (115/216)   \rReceiving objects:  54% (117/216)   \rReceiving objects:  55% (119/216)   \rReceiving objects:  56% (121/216)   \rReceiving objects:  57% (124/216)   \rReceiving objects:  58% (126/216)   \rReceiving objects:  59% (128/216)   \rReceiving objects:  60% (130/216)   \rReceiving objects:  61% (132/216)   \rReceiving objects:  62% (134/216)   \rReceiving objects:  63% (137/216)   \rReceiving objects:  64% (139/216)   \rReceiving objects:  65% (141/216)   \rReceiving objects:  66% (143/216)   \rReceiving objects:  67% (145/216)   \rReceiving objects:  68% (147/216)   \rReceiving objects:  69% (150/216)   \rReceiving objects:  70% (152/216)   \rReceiving objects:  71% (154/216)   \rReceiving objects:  72% (156/216)   \rReceiving objects:  73% (158/216)   \rReceiving objects:  74% (160/216)   \rReceiving objects:  75% (162/216)   \rReceiving objects:  76% (165/216)   \rReceiving objects:  77% (167/216)   \rReceiving objects:  78% (169/216)   \rReceiving objects:  79% (171/216)   \rReceiving objects:  80% (173/216)   \rReceiving objects:  81% (175/216)   \rReceiving objects:  82% (178/216)   \rReceiving objects:  83% (180/216)   \rReceiving objects:  84% (182/216)   \rReceiving objects:  85% (184/216)   \rReceiving objects:  86% (186/216)   \rReceiving objects:  87% (188/216)   \rReceiving objects:  88% (191/216)   \rReceiving objects:  89% (193/216)   \rReceiving objects:  90% (195/216)   \rReceiving objects:  91% (197/216)   \rReceiving objects:  92% (199/216)   \rReceiving objects:  93% (201/216)   \rReceiving objects:  94% (204/216)   \rReceiving objects:  95% (206/216)   \rReceiving objects:  96% (208/216)   \rReceiving objects:  97% (210/216)   \rReceiving objects:  98% (212/216)   \rReceiving objects:  99% (214/216)   \rReceiving objects: 100% (216/216)   \rReceiving objects: 100% (216/216), 1.28 MiB | 31.20 MiB/s, done.\n",
            "Resolving deltas:   0% (0/118)   \rResolving deltas:   3% (4/118)   \rResolving deltas:   5% (6/118)   \rResolving deltas:   7% (9/118)   \rResolving deltas:  19% (23/118)   \rResolving deltas:  22% (27/118)   \rResolving deltas:  23% (28/118)   \rResolving deltas:  31% (37/118)   \rResolving deltas:  32% (38/118)   \rResolving deltas:  36% (43/118)   \rResolving deltas:  40% (48/118)   \rResolving deltas:  44% (52/118)   \rResolving deltas:  49% (58/118)   \rResolving deltas:  51% (61/118)   \rResolving deltas:  55% (65/118)   \rResolving deltas:  56% (67/118)   \rResolving deltas:  63% (75/118)   \rResolving deltas:  64% (76/118)   \rResolving deltas:  76% (90/118)   \rResolving deltas:  83% (98/118)   \rResolving deltas:  92% (109/118)   \rResolving deltas:  94% (112/118)   \rResolving deltas:  95% (113/118)   \rResolving deltas:  96% (114/118)   \rResolving deltas:  97% (115/118)   \rResolving deltas:  99% (117/118)   \rResolving deltas: 100% (118/118)   \rResolving deltas: 100% (118/118), done.\n"
          ],
          "name": "stdout"
        }
      ]
    },
    {
      "cell_type": "code",
      "metadata": {
        "id": "nBcb6OH_Ek_K"
      },
      "source": [
        ""
      ],
      "execution_count": null,
      "outputs": []
    },
    {
      "cell_type": "code",
      "metadata": {
        "id": "ABLj8s6REqsv"
      },
      "source": [
        ""
      ],
      "execution_count": null,
      "outputs": []
    },
    {
      "cell_type": "code",
      "metadata": {
        "colab": {
          "base_uri": "https://localhost:8080/"
        },
        "id": "QHwHG62aoVMs",
        "outputId": "a0fd1ac0-9924-48ca-9ed1-8bc1f7723b06"
      },
      "source": [
        "!pip install -r /content/Conv-TasNet/requirements.txt"
      ],
      "execution_count": null,
      "outputs": [
        {
          "output_type": "stream",
          "text": [
            "Requirement already satisfied: librosa in /usr/local/lib/python3.7/dist-packages (from -r /content/Conv-TasNet/requirements.txt (line 1)) (0.8.0)\n",
            "Requirement already satisfied: mir_eval in /usr/local/lib/python3.7/dist-packages (from -r /content/Conv-TasNet/requirements.txt (line 2)) (0.6)\n",
            "Requirement already satisfied: visdom in /usr/local/lib/python3.7/dist-packages (from -r /content/Conv-TasNet/requirements.txt (line 3)) (0.1.8.9)\n",
            "Requirement already satisfied: numba>=0.43.0 in /usr/local/lib/python3.7/dist-packages (from librosa->-r /content/Conv-TasNet/requirements.txt (line 1)) (0.51.2)\n",
            "Requirement already satisfied: pooch>=1.0 in /usr/local/lib/python3.7/dist-packages (from librosa->-r /content/Conv-TasNet/requirements.txt (line 1)) (1.3.0)\n",
            "Requirement already satisfied: scipy>=1.0.0 in /usr/local/lib/python3.7/dist-packages (from librosa->-r /content/Conv-TasNet/requirements.txt (line 1)) (1.4.1)\n",
            "Requirement already satisfied: scikit-learn!=0.19.0,>=0.14.0 in /usr/local/lib/python3.7/dist-packages (from librosa->-r /content/Conv-TasNet/requirements.txt (line 1)) (0.22.2.post1)\n",
            "Requirement already satisfied: joblib>=0.14 in /usr/local/lib/python3.7/dist-packages (from librosa->-r /content/Conv-TasNet/requirements.txt (line 1)) (1.0.1)\n",
            "Requirement already satisfied: audioread>=2.0.0 in /usr/local/lib/python3.7/dist-packages (from librosa->-r /content/Conv-TasNet/requirements.txt (line 1)) (2.1.9)\n",
            "Requirement already satisfied: decorator>=3.0.0 in /usr/local/lib/python3.7/dist-packages (from librosa->-r /content/Conv-TasNet/requirements.txt (line 1)) (4.4.2)\n",
            "Requirement already satisfied: soundfile>=0.9.0 in /usr/local/lib/python3.7/dist-packages (from librosa->-r /content/Conv-TasNet/requirements.txt (line 1)) (0.10.3.post1)\n",
            "Requirement already satisfied: numpy>=1.15.0 in /usr/local/lib/python3.7/dist-packages (from librosa->-r /content/Conv-TasNet/requirements.txt (line 1)) (1.19.5)\n",
            "Requirement already satisfied: resampy>=0.2.2 in /usr/local/lib/python3.7/dist-packages (from librosa->-r /content/Conv-TasNet/requirements.txt (line 1)) (0.2.2)\n",
            "Requirement already satisfied: six in /usr/local/lib/python3.7/dist-packages (from mir_eval->-r /content/Conv-TasNet/requirements.txt (line 2)) (1.15.0)\n",
            "Requirement already satisfied: future in /usr/local/lib/python3.7/dist-packages (from mir_eval->-r /content/Conv-TasNet/requirements.txt (line 2)) (0.16.0)\n",
            "Requirement already satisfied: pillow in /usr/local/lib/python3.7/dist-packages (from visdom->-r /content/Conv-TasNet/requirements.txt (line 3)) (7.1.2)\n",
            "Requirement already satisfied: torchfile in /usr/local/lib/python3.7/dist-packages (from visdom->-r /content/Conv-TasNet/requirements.txt (line 3)) (0.1.0)\n",
            "Requirement already satisfied: tornado in /usr/local/lib/python3.7/dist-packages (from visdom->-r /content/Conv-TasNet/requirements.txt (line 3)) (5.1.1)\n",
            "Requirement already satisfied: requests in /usr/local/lib/python3.7/dist-packages (from visdom->-r /content/Conv-TasNet/requirements.txt (line 3)) (2.23.0)\n",
            "Requirement already satisfied: jsonpatch in /usr/local/lib/python3.7/dist-packages (from visdom->-r /content/Conv-TasNet/requirements.txt (line 3)) (1.32)\n",
            "Requirement already satisfied: pyzmq in /usr/local/lib/python3.7/dist-packages (from visdom->-r /content/Conv-TasNet/requirements.txt (line 3)) (22.0.3)\n",
            "Requirement already satisfied: websocket-client in /usr/local/lib/python3.7/dist-packages (from visdom->-r /content/Conv-TasNet/requirements.txt (line 3)) (1.0.1)\n",
            "Requirement already satisfied: setuptools in /usr/local/lib/python3.7/dist-packages (from numba>=0.43.0->librosa->-r /content/Conv-TasNet/requirements.txt (line 1)) (56.1.0)\n",
            "Requirement already satisfied: llvmlite<0.35,>=0.34.0.dev0 in /usr/local/lib/python3.7/dist-packages (from numba>=0.43.0->librosa->-r /content/Conv-TasNet/requirements.txt (line 1)) (0.34.0)\n",
            "Requirement already satisfied: appdirs in /usr/local/lib/python3.7/dist-packages (from pooch>=1.0->librosa->-r /content/Conv-TasNet/requirements.txt (line 1)) (1.4.4)\n",
            "Requirement already satisfied: packaging in /usr/local/lib/python3.7/dist-packages (from pooch>=1.0->librosa->-r /content/Conv-TasNet/requirements.txt (line 1)) (20.9)\n",
            "Requirement already satisfied: cffi>=1.0 in /usr/local/lib/python3.7/dist-packages (from soundfile>=0.9.0->librosa->-r /content/Conv-TasNet/requirements.txt (line 1)) (1.14.5)\n",
            "Requirement already satisfied: certifi>=2017.4.17 in /usr/local/lib/python3.7/dist-packages (from requests->visdom->-r /content/Conv-TasNet/requirements.txt (line 3)) (2020.12.5)\n",
            "Requirement already satisfied: urllib3!=1.25.0,!=1.25.1,<1.26,>=1.21.1 in /usr/local/lib/python3.7/dist-packages (from requests->visdom->-r /content/Conv-TasNet/requirements.txt (line 3)) (1.24.3)\n",
            "Requirement already satisfied: chardet<4,>=3.0.2 in /usr/local/lib/python3.7/dist-packages (from requests->visdom->-r /content/Conv-TasNet/requirements.txt (line 3)) (3.0.4)\n",
            "Requirement already satisfied: idna<3,>=2.5 in /usr/local/lib/python3.7/dist-packages (from requests->visdom->-r /content/Conv-TasNet/requirements.txt (line 3)) (2.10)\n",
            "Requirement already satisfied: jsonpointer>=1.9 in /usr/local/lib/python3.7/dist-packages (from jsonpatch->visdom->-r /content/Conv-TasNet/requirements.txt (line 3)) (2.1)\n",
            "Requirement already satisfied: pyparsing>=2.0.2 in /usr/local/lib/python3.7/dist-packages (from packaging->pooch>=1.0->librosa->-r /content/Conv-TasNet/requirements.txt (line 1)) (2.4.7)\n",
            "Requirement already satisfied: pycparser in /usr/local/lib/python3.7/dist-packages (from cffi>=1.0->soundfile>=0.9.0->librosa->-r /content/Conv-TasNet/requirements.txt (line 1)) (2.20)\n"
          ],
          "name": "stdout"
        }
      ]
    },
    {
      "cell_type": "code",
      "metadata": {
        "colab": {
          "base_uri": "https://localhost:8080/"
        },
        "id": "NRDEsjJCGWk5",
        "outputId": "f52ea185-7d39-415d-876e-6c6eb0045463"
      },
      "source": [
        "%cd /content/Conv-TasNet/egs/wsj0"
      ],
      "execution_count": null,
      "outputs": [
        {
          "output_type": "stream",
          "text": [
            "/content/Conv-TasNet/egs/wsj0\n"
          ],
          "name": "stdout"
        }
      ]
    },
    {
      "cell_type": "code",
      "metadata": {
        "id": "XLDCaS0MJw3x"
      },
      "source": [
        "!chmod 755 run.sh"
      ],
      "execution_count": null,
      "outputs": []
    },
    {
      "cell_type": "code",
      "metadata": {
        "colab": {
          "base_uri": "https://localhost:8080/"
        },
        "id": "21zCUZDtJgSq",
        "outputId": "7d57cd78-5c94-41dd-86b3-d89dc4644f3d"
      },
      "source": [
        "!./run.sh"
      ],
      "execution_count": null,
      "outputs": [
        {
          "output_type": "stream",
          "text": [
            "Stage 1: Generating json files including wav path and duration\n",
            "Namespace(in_dir='/content/LibriMix/storage_dir/Libri3Mix/wav8k/max/', out_dir='data', sample_rate=8000)\n",
            "Traceback (most recent call last):\n",
            "  File \"/content/Conv-TasNet/egs/wsj0/../../src/preprocess.py\", line 47, in <module>\n",
            "    preprocess(args)\n",
            "  File \"/content/Conv-TasNet/egs/wsj0/../../src/preprocess.py\", line 34, in preprocess\n",
            "    sample_rate=args.sample_rate)\n",
            "  File \"/content/Conv-TasNet/egs/wsj0/../../src/preprocess.py\", line 15, in preprocess_one_dir\n",
            "    wav_list = os.listdir(in_dir)\n",
            "FileNotFoundError: [Errno 2] No such file or directory: '/content/LibriMix/storage_dir/Libri3Mix/wav8k/max/tr/mix'\n",
            "Stage 2: Training\n",
            "run.pl: job failed, log is in exp/train_r8000_N256_L20_B256_H512_P3_X8_R4_C2_gLN_causal0_relu_epoch100_half1_norm5_bs3_worker4_adam_lr1e-3_mmt0_l20_train-100/train.log\n",
            "Stage 3: Evaluate separation performance\n",
            "run.pl: job failed, log is in exp/train_r8000_N256_L20_B256_H512_P3_X8_R4_C2_gLN_causal0_relu_epoch100_half1_norm5_bs3_worker4_adam_lr1e-3_mmt0_l20_train-100/evaluate.log\n",
            "Stage 4: Separate speech using Conv-TasNet\n",
            "run.pl: job failed, log is in exp/train_r8000_N256_L20_B256_H512_P3_X8_R4_C2_gLN_causal0_relu_epoch100_half1_norm5_bs3_worker4_adam_lr1e-3_mmt0_l20_train-100/separate/separate.log\n"
          ],
          "name": "stdout"
        }
      ]
    },
    {
      "cell_type": "code",
      "metadata": {
        "id": "dy9kG_e6FOBj"
      },
      "source": [
        "!rm -rf /content/LibriMix/Conv-TasNet"
      ],
      "execution_count": null,
      "outputs": []
    },
    {
      "cell_type": "code",
      "metadata": {
        "id": "cElF_oLwFOFz"
      },
      "source": [
        ""
      ],
      "execution_count": null,
      "outputs": []
    },
    {
      "cell_type": "code",
      "metadata": {
        "colab": {
          "base_uri": "https://localhost:8080/"
        },
        "id": "NUqswU26Hrjg",
        "outputId": "1d545566-daea-43a9-a62e-834399da1fb9"
      },
      "source": [
        ""
      ],
      "execution_count": null,
      "outputs": [
        {
          "output_type": "stream",
          "text": [
            "generate_librimix.sh  metadata\t requirements.txt  storage_dir\n",
            "LICENSE\t\t      README.md  scripts\n"
          ],
          "name": "stdout"
        }
      ]
    },
    {
      "cell_type": "code",
      "metadata": {
        "id": "BEZcDjcaHtWt"
      },
      "source": [
        ""
      ],
      "execution_count": null,
      "outputs": []
    }
  ]
}